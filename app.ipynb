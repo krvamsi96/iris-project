{
 "cells": [
  {
   "cell_type": "code",
   "execution_count": null,
   "metadata": {},
   "outputs": [
    {
     "name": "stdout",
     "output_type": "stream",
     "text": [
      " * Serving Flask app '__main__' (lazy loading)\n",
      " * Environment: production\n",
      "   WARNING: This is a development server. Do not use it in a production deployment.\n",
      "   Use a production WSGI server instead.\n",
      " * Debug mode: on\n"
     ]
    },
    {
     "name": "stderr",
     "output_type": "stream",
     "text": [
      " * Running on all addresses.\n",
      "   WARNING: This is a development server. Do not use it in a production deployment.\n",
      " * Running on http://192.168.168.78:5000/ (Press CTRL+C to quit)\n",
      "192.168.168.78 - - [11/Jan/2022 14:23:03] \"GET / HTTP/1.1\" 200 -\n",
      "192.168.168.78 - - [11/Jan/2022 14:23:15] \"POST /predict HTTP/1.1\" 200 -\n"
     ]
    }
   ],
   "source": [
    "import numpy as np\n",
    "from flask import Flask, request, jsonify, render_template\n",
    "import pickle\n",
    "\n",
    "# Create flask app\n",
    "flask_app = Flask(__name__)\n",
    "model = pickle.load(open(\"model.pkl\", \"rb\"))\n",
    "\n",
    "@flask_app.route(\"/\")\n",
    "def Home():\n",
    "    return render_template(\"index.html\")\n",
    "\n",
    "@flask_app.route(\"/predict\", methods = [\"POST\"])\n",
    "def predict():\n",
    "    float_features = [float(x) for x in request.form.values()]\n",
    "    features = [np.array(float_features)]\n",
    "    prediction = model.predict(features)\n",
    "    return render_template(\"index.html\", prediction_text = \"The flower species is {}\".format(prediction))\n",
    "\n",
    "if __name__ == \"__main__\":\n",
    "    flask_app.run(host='0.0.0.0',port=5000,debug=True,use_reloader=False)"
   ]
  },
  {
   "cell_type": "code",
   "execution_count": null,
   "metadata": {},
   "outputs": [],
   "source": []
  }
 ],
 "metadata": {
  "kernelspec": {
   "display_name": "Python 3",
   "language": "python",
   "name": "python3"
  },
  "language_info": {
   "codemirror_mode": {
    "name": "ipython",
    "version": 3
   },
   "file_extension": ".py",
   "mimetype": "text/x-python",
   "name": "python",
   "nbconvert_exporter": "python",
   "pygments_lexer": "ipython3",
   "version": "3.7.6"
  }
 },
 "nbformat": 4,
 "nbformat_minor": 4
}
